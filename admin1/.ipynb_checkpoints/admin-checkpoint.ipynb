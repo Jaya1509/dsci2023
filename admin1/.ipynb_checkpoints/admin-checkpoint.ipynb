{
 "cells": [
  {
   "cell_type": "code",
   "execution_count": null,
   "id": "0d2a7ee2",
   "metadata": {},
   "outputs": [],
   "source": [
    "%load_ext tensorboard\n",
    "\n",
    "\n",
    "import tensorflow as tf\n",
    "import tensorflow_addons as tfa\n",
    "from tensorflow import keras\n",
    "import numpy as np\n",
    "import matplotlib.pyplot as plt\n",
    "import pandas as pd\n",
    "from sklearn import preprocessing\n",
    "from sklearn.metrics import confusion_matrix, multilabel_confusion_matrix\n",
    "from sklearn.metrics import plot_confusion_matrix\n",
    "from sklearn import metrics\n",
    "from sklearn.metrics import classification_report\n"
   ]
  },
  {
   "cell_type": "code",
   "execution_count": null,
   "id": "890e7a13",
   "metadata": {},
   "outputs": [],
   "source": [
    "import numpy as np\n",
    "import pandas as pd\n",
    "from sklearn import preprocessing\n",
    "from sklearn.preprocessing import OneHotEncoder\n",
    "from sklearn.preprocessing import LabelEncoder\n",
    "from sklearn.model_selection import train_test_split\n",
    "from sklearn.preprocessing import StandardScaler\n",
    "from sklearn.preprocessing import MinMaxScaler\n",
    "from sklearn.metrics import accuracy_score, f1_score, precision_score, recall_score, classification_report\n",
    "from sklearn.preprocessing import OneHotEncoder\n",
    "from sklearn.preprocessing import LabelEncoder\n",
    "import tensorflow as tf\n",
    "from tensorflow import keras\n",
    "from tensorflow.keras import layers\n",
    "from tensorflow.keras.models import Sequential, load_model\n",
    "from tensorflow.keras.layers import Dense\n",
    "from tensorflow.keras.utils import to_categorical\n",
    "from keras.utils import np_utils\n",
    "from tensorflow.keras.layers import Dropout\n",
    "from tensorflow.keras.layers import Flatten, BatchNormalization\n",
    "from tensorflow.keras.layers import Convolution2D, Conv1D\n",
    "from tensorflow.keras.layers import MaxPooling2D, MaxPooling1D\n",
    "from keras import backend as K\n",
    "from keras import backend\n",
    "from tensorflow.keras.callbacks import ModelCheckpoint, EarlyStopping\n",
    "import time\n",
    "import os\n",
    "import psutil\n",
    "import csv\n",
    "from itertools import repeat\n",
    "from PIL import Image\n",
    "from numpy import asarray\n",
    "from scipy.stats import entropy\n",
    "import math"
   ]
  },
  {
   "cell_type": "code",
   "execution_count": null,
   "id": "44c77853",
   "metadata": {},
   "outputs": [],
   "source": [
    "try:\n",
    "  df = pd.read_csv(\"heart_cleaned.csv\",index_col=False, skipinitialspace=True)\n",
    "except:\n",
    "  df = pd.read_csv(\"C:\\\\Users\\\\jpath\\\\Project\\\\heart_cleaned.csv\", index_col=False, skipinitialspace=True)"
   ]
  },
  {
   "cell_type": "code",
   "execution_count": null,
   "id": "dec21772",
   "metadata": {},
   "outputs": [],
   "source": [
    "df.head()"
   ]
  },
  {
   "cell_type": "code",
   "execution_count": null,
   "id": "e9239ab6",
   "metadata": {},
   "outputs": [],
   "source": [
    "df = df.replace('?', np.nan)\n",
    "df[pd.isnull(df).any(axis=1)].shape"
   ]
  },
  {
   "cell_type": "code",
   "execution_count": null,
   "id": "1d513f70",
   "metadata": {},
   "outputs": [],
   "source": [
    "print(df.shape)\n",
    "\n",
    "#'number_outpatient', ,'number_inpatient'"
   ]
  },
  {
   "cell_type": "code",
   "execution_count": null,
   "id": "5bceb91e",
   "metadata": {},
   "outputs": [],
   "source": [
    "df['AgeCategory'].value_counts()  "
   ]
  },
  {
   "cell_type": "code",
   "execution_count": null,
   "id": "36892718",
   "metadata": {},
   "outputs": [],
   "source": [
    "# categorizing age\n",
    "#age <50,>50\n",
    "df.loc[df['AgeCategory']== '18-24','AgeCategory'] = 0;\n",
    "df.loc[df['AgeCategory']== '25-29','AgeCategory'] = 0;\n",
    "df.loc[df['AgeCategory']== '30-34','AgeCategory'] = 0;\n",
    "df.loc[df['AgeCategory']== '35-39','AgeCategory'] = 0;\n",
    "df.loc[df['AgeCategory']== '40-44','AgeCategory'] = 0;\n",
    "df.loc[df['AgeCategory']== '45-49','AgeCategory'] = 0;\n",
    "df.loc[df['AgeCategory']== '50-54','AgeCategory'] = 1;\n",
    "df.loc[df['AgeCategory']== '55-59','AgeCategory'] = 1;\n",
    "df.loc[df['AgeCategory']== '60-64','AgeCategory'] = 1;\n",
    "df.loc[df['AgeCategory']== '65-69','AgeCategory'] = 1;\n",
    "df.loc[df['AgeCategory']== '70-74','AgeCategory'] = 1;\n",
    "df.loc[df['AgeCategory']== '75-79','AgeCategory'] = 1;\n",
    "df.loc[df['AgeCategory']== '80 or older','AgeCategory'] = 1;\n",
    "\n",
    "df['AgeCategory'] = df['AgeCategory'].astype(np.int32)"
   ]
  },
  {
   "cell_type": "code",
   "execution_count": null,
   "id": "9298bbf3",
   "metadata": {},
   "outputs": [],
   "source": []
  }
 ],
 "metadata": {
  "kernelspec": {
   "display_name": "Python 3 (ipykernel)",
   "language": "python",
   "name": "python3"
  },
  "language_info": {
   "codemirror_mode": {
    "name": "ipython",
    "version": 3
   },
   "file_extension": ".py",
   "mimetype": "text/x-python",
   "name": "python",
   "nbconvert_exporter": "python",
   "pygments_lexer": "ipython3",
   "version": "3.10.9"
  }
 },
 "nbformat": 4,
 "nbformat_minor": 5
}
